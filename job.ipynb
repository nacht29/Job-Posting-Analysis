{
 "cells": [
  {
   "cell_type": "markdown",
   "metadata": {},
   "source": [
    "## Installing dependencies"
   ]
  },
  {
   "cell_type": "code",
   "execution_count": null,
   "metadata": {},
   "outputs": [],
   "source": [
    "# install serpapi google search\n",
    "!pip install google-search-results"
   ]
  },
  {
   "cell_type": "markdown",
   "metadata": {},
   "source": [
    "## Importing modules"
   ]
  },
  {
   "cell_type": "code",
   "execution_count": null,
   "metadata": {},
   "outputs": [],
   "source": [
    "import api_key # py file that stores the api key\n",
    "import warnings\n",
    "import pprint\n",
    "import pandas as pd\n",
    "import numpy as np\n",
    "import matplotlib.pyplot as plt\n",
    "from serpapi import GoogleSearch\n",
    "\n",
    "warnings.filterwarnings('ignore')"
   ]
  },
  {
   "cell_type": "markdown",
   "metadata": {},
   "source": [
    "## Defining search parameters\n",
    "\n",
    "- **api_key**: Private api key for SearchAPI.\n",
    "- **chips**: A filter parameter to narrow down job search results. Some \tparameters include:\n",
    "\t```python\n",
    "\t'chips': 'employment_type:FULLTIME'  # PARTTIME, CONTRACTOR, INTERN\n",
    "\t```\n",
    "\n",
    "\t```python\n",
    "\t'chips': 'date_posted:today'  #  3days, week, month\n",
    "\t```\n",
    "\n",
    "\t```python\n",
    "\t'chips': 'company_type:company'\n",
    "\t```\n",
    "\n",
    "\t```python\n",
    "\t'chips': 'experience_level:ENTRY_LEVEL'  # INTERNSHIP, MID_LEVEL, SENIOR\n",
    "\t```\n",
    "\n",
    "Combining multiple filters using comma separation:\n",
    "```python\n",
    "'chips': 'date_posted:week,employment_type:FULLTIME,experience_level:ENTRY_LEVEL'\n",
    "```"
   ]
  },
  {
   "cell_type": "code",
   "execution_count": 4,
   "metadata": {},
   "outputs": [],
   "source": [
    "search_term = 'Data Analyst'\n",
    "geographic_location = 'my' # a general location, usually countries, us for USA, my for Malaysia, sg for Singapore etc\n",
    "location = 'Malaysia' # specific location, etc Kuala Lumpur, NYC\n",
    "time_range = 'day'\n",
    "emp_type = 'INTERN' # PARTTIME, CONTRACTOR, INTERN\n",
    "exp_lvl = 'ENTRY_LEVEL' # MID_LEVEL, SENIOR_LEVEL, DIRECTOR, EXECUTIVE\n",
    "job_type = 'REMOTE'\n",
    "\n",
    "params = {\n",
    "\t'api_key': api_key,\n",
    "\t'device': 'desktop',\n",
    "\t'engine': 'google_jobs',\n",
    "\t'google_domain': 'google.com',\n",
    "\t'q': search_term,\n",
    "\t'hl': 'en',\n",
    "\t'gl': geographic_location,\n",
    "\t'location': location,\n",
    "\t'chips': f'date_posted:{time_range},employment_type:{emp_type}',\n",
    "}"
   ]
  },
  {
   "cell_type": "markdown",
   "metadata": {},
   "source": [
    "## Verifying seach results"
   ]
  },
  {
   "cell_type": "code",
   "execution_count": 7,
   "metadata": {},
   "outputs": [
    {
     "name": "stdout",
     "output_type": "stream",
     "text": [
      "dict_keys(['search_metadata', 'search_parameters', 'filters', 'jobs_results', 'serpapi_pagination'])\n"
     ]
    },
    {
     "data": {
      "text/html": [
       "<div>\n",
       "<style scoped>\n",
       "    .dataframe tbody tr th:only-of-type {\n",
       "        vertical-align: middle;\n",
       "    }\n",
       "\n",
       "    .dataframe tbody tr th {\n",
       "        vertical-align: top;\n",
       "    }\n",
       "\n",
       "    .dataframe thead th {\n",
       "        text-align: right;\n",
       "    }\n",
       "</style>\n",
       "<table border=\"1\" class=\"dataframe\">\n",
       "  <thead>\n",
       "    <tr style=\"text-align: right;\">\n",
       "      <th></th>\n",
       "      <th>title</th>\n",
       "      <th>company_name</th>\n",
       "      <th>location</th>\n",
       "      <th>via</th>\n",
       "      <th>share_link</th>\n",
       "      <th>thumbnail</th>\n",
       "      <th>extensions</th>\n",
       "      <th>detected_extensions</th>\n",
       "      <th>description</th>\n",
       "      <th>apply_options</th>\n",
       "      <th>job_id</th>\n",
       "    </tr>\n",
       "  </thead>\n",
       "  <tbody>\n",
       "    <tr>\n",
       "      <th>0</th>\n",
       "      <td>Data Analyst (E-Commerce) Intern</td>\n",
       "      <td>Daikin Malaysia Sales &amp; Service Sdn Bhd</td>\n",
       "      <td>Petaling Jaya, Selangor</td>\n",
       "      <td>LinkedIn</td>\n",
       "      <td>https://www.google.com/search?ibp=htl;jobs&amp;q=D...</td>\n",
       "      <td>https://serpapi.com/searches/67ae0e6ddee1dcc44...</td>\n",
       "      <td>[1 day ago, Internship]</td>\n",
       "      <td>{'posted_at': '1 day ago', 'schedule_type': 'I...</td>\n",
       "      <td>Job Responsibilities\\n\\n• Compile, consolidate...</td>\n",
       "      <td>[{'title': 'LinkedIn', 'link': 'https://my.lin...</td>\n",
       "      <td>eyJqb2JfdGl0bGUiOiJEYXRhIEFuYWx5c3QgKEUtQ29tbW...</td>\n",
       "    </tr>\n",
       "    <tr>\n",
       "      <th>1</th>\n",
       "      <td>Internship in Data Analyst</td>\n",
       "      <td>Casbay Sdn.Bhd</td>\n",
       "      <td>Air Itam, Penang</td>\n",
       "      <td>Indeed</td>\n",
       "      <td>https://www.google.com/search?ibp=htl;jobs&amp;q=D...</td>\n",
       "      <td>https://serpapi.com/searches/67ae0e6ddee1dcc44...</td>\n",
       "      <td>[8 days ago, Internship]</td>\n",
       "      <td>{'posted_at': '8 days ago', 'schedule_type': '...</td>\n",
       "      <td>Key Responsibilities:\\n• Big Data Analytics: C...</td>\n",
       "      <td>[{'title': 'Indeed', 'link': 'https://malaysia...</td>\n",
       "      <td>eyJqb2JfdGl0bGUiOiJJbnRlcm5zaGlwIGluIERhdGEgQW...</td>\n",
       "    </tr>\n",
       "    <tr>\n",
       "      <th>2</th>\n",
       "      <td>Data Analyst Intern</td>\n",
       "      <td>Boostorder</td>\n",
       "      <td>Kuala Lumpur, Federal Territory of Kuala Lumpur</td>\n",
       "      <td>Boostorder Careers</td>\n",
       "      <td>https://www.google.com/search?ibp=htl;jobs&amp;q=D...</td>\n",
       "      <td>https://serpapi.com/searches/67ae0e6ddee1dcc44...</td>\n",
       "      <td>[RM 1K–RM 1.8K a month, Internship]</td>\n",
       "      <td>{'salary': 'RM 1K–RM 1.8K a month', 'schedule_...</td>\n",
       "      <td>Fueled by a passion for digital transformation...</td>\n",
       "      <td>[{'title': 'Boostorder Careers', 'link': 'http...</td>\n",
       "      <td>eyJqb2JfdGl0bGUiOiJEYXRhIEFuYWx5c3QgSW50ZXJuIi...</td>\n",
       "    </tr>\n",
       "  </tbody>\n",
       "</table>\n",
       "</div>"
      ],
      "text/plain": [
       "                              title                             company_name  \\\n",
       "0  Data Analyst (E-Commerce) Intern  Daikin Malaysia Sales & Service Sdn Bhd   \n",
       "1        Internship in Data Analyst                           Casbay Sdn.Bhd   \n",
       "2               Data Analyst Intern                               Boostorder   \n",
       "\n",
       "                                          location                 via  \\\n",
       "0                          Petaling Jaya, Selangor            LinkedIn   \n",
       "1                                 Air Itam, Penang              Indeed   \n",
       "2  Kuala Lumpur, Federal Territory of Kuala Lumpur  Boostorder Careers   \n",
       "\n",
       "                                          share_link  \\\n",
       "0  https://www.google.com/search?ibp=htl;jobs&q=D...   \n",
       "1  https://www.google.com/search?ibp=htl;jobs&q=D...   \n",
       "2  https://www.google.com/search?ibp=htl;jobs&q=D...   \n",
       "\n",
       "                                           thumbnail  \\\n",
       "0  https://serpapi.com/searches/67ae0e6ddee1dcc44...   \n",
       "1  https://serpapi.com/searches/67ae0e6ddee1dcc44...   \n",
       "2  https://serpapi.com/searches/67ae0e6ddee1dcc44...   \n",
       "\n",
       "                            extensions  \\\n",
       "0              [1 day ago, Internship]   \n",
       "1             [8 days ago, Internship]   \n",
       "2  [RM 1K–RM 1.8K a month, Internship]   \n",
       "\n",
       "                                 detected_extensions  \\\n",
       "0  {'posted_at': '1 day ago', 'schedule_type': 'I...   \n",
       "1  {'posted_at': '8 days ago', 'schedule_type': '...   \n",
       "2  {'salary': 'RM 1K–RM 1.8K a month', 'schedule_...   \n",
       "\n",
       "                                         description  \\\n",
       "0  Job Responsibilities\\n\\n• Compile, consolidate...   \n",
       "1  Key Responsibilities:\\n• Big Data Analytics: C...   \n",
       "2  Fueled by a passion for digital transformation...   \n",
       "\n",
       "                                       apply_options  \\\n",
       "0  [{'title': 'LinkedIn', 'link': 'https://my.lin...   \n",
       "1  [{'title': 'Indeed', 'link': 'https://malaysia...   \n",
       "2  [{'title': 'Boostorder Careers', 'link': 'http...   \n",
       "\n",
       "                                              job_id  \n",
       "0  eyJqb2JfdGl0bGUiOiJEYXRhIEFuYWx5c3QgKEUtQ29tbW...  \n",
       "1  eyJqb2JfdGl0bGUiOiJJbnRlcm5zaGlwIGluIERhdGEgQW...  \n",
       "2  eyJqb2JfdGl0bGUiOiJEYXRhIEFuYWx5c3QgSW50ZXJuIi...  "
      ]
     },
     "metadata": {},
     "output_type": "display_data"
    }
   ],
   "source": [
    "search = GoogleSearch(params)\n",
    "results = search.get_dict()\n",
    "\n",
    "print(results.keys())\n",
    "\n",
    "if 'jobs_results' in results.keys():\n",
    "\tjobs_df = pd.DataFrame(results['jobs_results'])\n",
    "\tdisplay(jobs_df.head(3))"
   ]
  }
 ],
 "metadata": {
  "kernelspec": {
   "display_name": "Python 3",
   "language": "python",
   "name": "python3"
  },
  "language_info": {
   "codemirror_mode": {
    "name": "ipython",
    "version": 3
   },
   "file_extension": ".py",
   "mimetype": "text/x-python",
   "name": "python",
   "nbconvert_exporter": "python",
   "pygments_lexer": "ipython3",
   "version": "3.13.0"
  }
 },
 "nbformat": 4,
 "nbformat_minor": 2
}
